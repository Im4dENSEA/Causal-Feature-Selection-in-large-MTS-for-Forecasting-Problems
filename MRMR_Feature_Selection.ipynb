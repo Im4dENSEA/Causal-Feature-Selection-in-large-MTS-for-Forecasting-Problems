{
 "cells": [
  {
   "cell_type": "markdown",
   "id": "9c5b13f4-f68e-497f-8177-6f30b753036f",
   "metadata": {},
   "source": [
    "# Import des packages"
   ]
  },
  {
   "cell_type": "code",
   "execution_count": 34,
   "id": "4a0e759a-126e-4d13-8388-d085ca277b36",
   "metadata": {},
   "outputs": [],
   "source": [
    "import numpy as np\n",
    "from mrmr import mrmr_regression\n",
    "import pandas as pd\n",
    "from sklearn.feature_selection import RFE\n",
    "from sklearn.svm import SVR\n",
    "from sklearn.linear_model import LassoLars\n",
    "from sklearn.feature_selection import SelectFromModel\n",
    "import matplotlib.pyplot as plt\n",
    "import random\n",
    "\n",
    "\n",
    "from statsmodels.tsa.vector_ar.var_model import VAR"
   ]
  },
  {
   "cell_type": "markdown",
   "id": "3ab78112-b0d5-4a07-ac43-0ab06dbfd357",
   "metadata": {},
   "source": [
    "# Utilisation de l'algorithme de Feature Selection MRMR"
   ]
  },
  {
   "cell_type": "markdown",
   "id": "64864ff7-7871-4777-8565-80fe1c3955c2",
   "metadata": {},
   "source": [
    "## Préparation des données"
   ]
  },
  {
   "cell_type": "code",
   "execution_count": 3,
   "id": "364ecc92-ac53-4e1c-80af-05c0f73e37f7",
   "metadata": {},
   "outputs": [],
   "source": [
    "data_path = 'data/VARSmall/returns'\n",
    "data = pd.read_csv(data_path+'/'+'data_0.csv', header=0)"
   ]
  },
  {
   "cell_type": "code",
   "execution_count": 4,
   "id": "4712c9bf-9e36-4020-8e62-c89ebd8af88e",
   "metadata": {},
   "outputs": [],
   "source": [
    "def prepare_data_vectorize(data, lags, target):\n",
    "\n",
    "        lags = lags\n",
    "        # used to vectorize several timesteps in a dimension 1 vector.\n",
    "        y = data[target].iloc[lags:]\n",
    "        indexes = y.index\n",
    "        y = y.values\n",
    "        window_X = [data.values[i:i+lags].reshape((-1,)) for i in range(len(data)-lags)]\n",
    "        X = np.array(window_X)\n",
    "        return X, y, indexes"
   ]
  },
  {
   "cell_type": "code",
   "execution_count": null,
   "id": "b6407b13-29e6-4e91-badc-e26022628fd0",
   "metadata": {},
   "outputs": [],
   "source": [
    "prepare_data_vectorize(data,10,'1')"
   ]
  },
  {
   "cell_type": "code",
   "execution_count": 5,
   "id": "98347b38-2675-4381-851d-e762c83818e2",
   "metadata": {},
   "outputs": [],
   "source": [
    "def vector_mask_to_columns(mask, data):\n",
    "        indexes = np.any(np.array(mask).reshape((-1,len(data.columns))), axis=0)\n",
    "        selected = data.columns[indexes]\n",
    "        selected=list(selected)\n",
    "        return selected\n",
    "      "
   ]
  },
  {
   "cell_type": "code",
   "execution_count": 6,
   "id": "9b06a4cd-2b95-49fe-bda6-cc6fdff7429c",
   "metadata": {},
   "outputs": [],
   "source": [
    "def transform(r, data):\n",
    "        \"\"\"Transform the input data.\n",
    "\n",
    "        This method uses the computed weight vector to produce a new\n",
    "        dataset exhibiting only the `self.n_features` best-ranked features.\n",
    "\n",
    "        ARGUMENTS\n",
    "        -----\n",
    "        data: The input data to transform\n",
    "\n",
    "        RETURN VALUE\n",
    "        -----\n",
    "        A matrix with the same number of rows as `data` and at most\n",
    "        `n_features` columns.\n",
    "        \"\"\"\n",
    "        n_features = np.round(\n",
    "            data.shape[1] * r.n_features\n",
    "        ).astype(np.int16) if r.n_features < 1 else r.n_features\n",
    "        feat_indices = np.flip(np.argsort(r.w_), 0)[0:n_features]\n",
    "\n",
    "        return feat_indices"
   ]
  },
  {
   "cell_type": "code",
   "execution_count": 8,
   "id": "16940969-b543-4560-b52f-b52b4831c30e",
   "metadata": {},
   "outputs": [],
   "source": [
    "config = {\n",
    "    'lags': 10,\n",
    "    'num_features_to_select': 10\n",
    "}"
   ]
  },
  {
   "cell_type": "code",
   "execution_count": null,
   "id": "4c6fc013-45a6-49ba-90a4-18166d9d57ae",
   "metadata": {},
   "outputs": [],
   "source": []
  },
  {
   "cell_type": "markdown",
   "id": "79a12ae8-437f-4ec3-8e9c-157d7718541d",
   "metadata": {},
   "source": [
    "## Application de MRMR"
   ]
  },
  {
   "cell_type": "code",
   "execution_count": 40,
   "id": "5b4f5824-26d6-4ba8-83b3-4affc3dcc2cd",
   "metadata": {},
   "outputs": [],
   "source": [
    "def apply_mrmr(data, i,target):\n",
    "        X, y, _ = prepare_data_vectorize(data, config['lags'],target)\n",
    "        X_df = pd.DataFrame(X, columns=[f'lag_{i}' for i in range(1, X.shape[1] + 1)])\n",
    "        num_features_to_select = config['num_features_to_select']\n",
    "    \n",
    "        selected_features_columns = mrmr_regression(X_df, y, i)\n",
    "        vector_mask = [name in selected_features_columns for name in X_df.columns]\n",
    "        selected_features_names=vector_mask_to_columns(vector_mask,data)\n",
    "\n",
    "       \n",
    "        return selected_features_names"
   ]
  },
  {
   "cell_type": "code",
   "execution_count": null,
   "id": "41720d05-0b0d-404f-b859-178c31d0087a",
   "metadata": {},
   "outputs": [],
   "source": [
    "apply_mrmr(df,2)"
   ]
  },
  {
   "cell_type": "markdown",
   "id": "7ebaf44c-5859-43db-9efc-afde0e443f70",
   "metadata": {},
   "source": [
    "# Open dataset and ground truth selectionne les targets possible de notre dataset"
   ]
  },
  {
   "cell_type": "code",
   "execution_count": 19,
   "id": "4f80693d-dcbe-434f-9318-83cd76ce41eb",
   "metadata": {},
   "outputs": [
    {
     "name": "stdout",
     "output_type": "stream",
     "text": [
      "Defaulting to user installation because normal site-packages is not writeable\n",
      "Requirement already satisfied: networkx in ./.local/lib/python3.10/site-packages (3.2.1)\n"
     ]
    }
   ],
   "source": [
    "import pandas as pd\n",
    "from collections import defaultdict\n",
    "!pip install networkx\n",
    "import networkx as nx\n",
    "\n",
    "\n",
    "#! TODO: add support for lagged causes (ancestor, connected) computation with declared max lag.\n",
    "\n",
    "\n",
    "\n",
    "# extractor functions\n",
    "def node_to_tuple(node):\n",
    "    lag, variable = node[1:].split(\".\")\n",
    "    return (variable, lag)\n",
    "\n",
    "def get_all_parents(graph, target):\n",
    "    if \"L0.\" + target in graph.nodes:\n",
    "        l = list(graph.predecessors(\"L0.\" + target))\n",
    "        return list(map(node_to_tuple, l))\n",
    "    else:\n",
    "        return list(graph.predecessors(target))\n",
    "\n",
    "def get_all_ancestors(graph, target):\n",
    "    if \"L0.\" + target in graph.nodes:\n",
    "        l = list(nx.ancestors(graph, \"L0.\" + target))\n",
    "        return list(map(node_to_tuple, l))\n",
    "    else:\n",
    "        return list(nx.ancestors(graph, target))\n",
    "\n",
    "def get_all_connected(graph, target):\n",
    "    if \"L0.\" + target in graph.nodes:\n",
    "        l = list(nx.node_connected_component(graph.to_undirected(), \"L0.\" + target))\n",
    "        return list(map(node_to_tuple, l))\n",
    "    else:\n",
    "        return list(nx.node_connected_component(graph.to_undirected(), target))\n",
    "\n",
    "def standardize_df(df):\n",
    "    return (df - df.mean(axis=0)) / df.std(axis=0)\n",
    "       \n",
    "\n",
    "\n",
    "\n",
    "def open_dataset_and_ground_truth(dataset_name: str,\n",
    "                                  filename: str,\n",
    "                                  cause_extraction=\"parents\",\n",
    "                                  rootdir=\".\",\n",
    "                                  compute_window_causal_graph=False,\n",
    "                                  window_size=\"max_direct\"):\n",
    "    \"\"\"\n",
    "    Open a file in a dataset family, where the ground truth is known:\n",
    "    Params:\n",
    "     - dataset_name: name of the dataset family\n",
    "     - filename: name of the file containing the MTS instance\n",
    "     (note: /data/<dataset_name>/<filename> is the complete path, with filename including the extension)\n",
    "     - cause_extraction (optional): the method to compute the relevant variables\n",
    "     - rootdir (optional): string indicating the root repository\n",
    "     - computed_window_causal_graph (optional): bool set to True to compute window causal graph\n",
    "     - window_size (optional): lag selection strategy for the window causal graph. Default is \"max_direct\" which takes the maximal lag of a cause.\n",
    "    Returns:\n",
    "     - df: the dataframe containing the MTS\n",
    "     - var_names: the list of attribute names that can be forecasting target\n",
    "     - causes_attributes_dict: dictionary associating each attribute to the list of its relevant predictors.\n",
    "     - lagged_attributes_dict: dictionary associating each attribute to the list of its relevant predictors, containing lag information.\n",
    "     - (optional) if compute_window_causal_graph is True, return the window causal graph as a networkx Digraph object\n",
    "    \"\"\"\n",
    "\n",
    "    if dataset_name[:11] == \"SynthNonlin\":\n",
    "        df = pd.read_csv(rootdir + \"/data/\" + dataset_name + \"/\" + filename)\n",
    "        df = df[df.columns[1:]]\n",
    "\n",
    "    elif dataset_name[:4] == \"fMRI\":\n",
    "        df = pd.read_csv(rootdir + \"/data/\" + dataset_name + \"/\" + filename)\n",
    "        df.columns = [str(i) for i in df.columns]\n",
    "\n",
    "    elif dataset_name[:10] == \"FinanceCPT\":\n",
    "        df = pd.read_csv(rootdir + \"/data/\" + dataset_name + \"/\" + filename, header=None)\n",
    "        df.columns = [str(i) for i in df.columns]\n",
    "\n",
    "    elif dataset_name[:18] == \"TestCLIM_N-5_T-250\":\n",
    "        df = pd.read_csv(rootdir + \"/data/\" + dataset_name + \"/\" + filename, header=None, sep=\" \")\n",
    "        df.columns = [str(i) for i in df.columns]\n",
    "        \n",
    "    elif dataset_name==\"VARProcess/returns\":\n",
    "        df = pd.read_csv(rootdir + \"/data/\" + dataset_name + \"/\" + filename)\n",
    "        df.columns = [str(i) for i in df.columns]\n",
    "    elif dataset_name==\"VARProcessNoCorr/returns\":\n",
    "        df = pd.read_csv(rootdir + \"/data/\" + dataset_name + \"/\" + filename)\n",
    "        df.columns = [str(i) for i in df.columns]\n",
    "    elif dataset_name==\"VARLarge/returns\":\n",
    "        df = pd.read_csv(rootdir + \"/data/\" + dataset_name + \"/\" + filename)\n",
    "        df.columns = [str(i) for i in df.columns]\n",
    "    elif dataset_name==\"VARSmall/returns\":\n",
    "        df = pd.read_csv(rootdir + \"/data/\" + dataset_name + \"/\" + filename)\n",
    "        df.columns = [str(i) for i in df.columns]\n",
    "    elif dataset_name==\"VARVaried/returns\":\n",
    "        df = pd.read_csv(rootdir + \"/data/\" + dataset_name + \"/\" + filename)\n",
    "        df.columns = [str(i) for i in df.columns]\n",
    "    elif dataset_name==\"dgp/piecewise_linear/returns\":\n",
    "        df = pd.read_csv(rootdir + \"/data/\" + dataset_name + \"/\" + filename)\n",
    "        df.columns = [str(i) for i in df.columns]\n",
    "    elif dataset_name==\"dgp/monotonic/returns\":\n",
    "        df = pd.read_csv(rootdir + \"data/\" + dataset_name + \"/\" + filename)\n",
    "        df.columns = [str(i) for i in df.columns]\n",
    "    elif dataset_name==\"dgp/trigonometric/returns\":\n",
    "        df = pd.read_csv(rootdir + \"/data/\" + dataset_name + \"/\" + filename)\n",
    "        df.columns = [str(i) for i in df.columns]\n",
    "    elif dataset_name==\"wikipediaMathEssencials/returns\":\n",
    "        df = pd.read_csv(rootdir + \"/data/\" + dataset_name + \"/\" + filename)\n",
    "        df.columns = [str(i) for i in df.columns]\n",
    "    elif dataset_name==\"Appliances\":\n",
    "        df = pd.read_csv(rootdir + \"/data/\" + dataset_name + \"/\" + filename)\n",
    "        df.columns = [str(i) for i in df.columns]\n",
    "    elif dataset_name==\"AusMacro\":\n",
    "        df = pd.read_csv(rootdir + \"/data/\" + dataset_name + \"/\" + filename)\n",
    "        df = df[df.columns[1:]]\n",
    "        df.columns = [str(i) for i in df.columns]\n",
    "    elif dataset_name==\"AusMeteo\":\n",
    "        df = pd.read_csv(rootdir + \"/data/\" + dataset_name + \"/\" + filename)\n",
    "        df.columns = [str(i) for i in df.columns]\n",
    "    else:\n",
    "        raise Exception(\"Dataset specified in config file is not implemented\")\n",
    "\n",
    "    var_names = list(df.columns)\n",
    "    \n",
    "    df = standardize_df(df)\n",
    "\n",
    "    if dataset_name[:11] == \"SynthNonlin\":\n",
    "        if dataset_name == \"SynthNonlin/7ts2h\":\n",
    "            ground_truth_parents = defaultdict(list)\n",
    "            ground_truth_lags = 10  # could be anything since we don't care about lags in this project\n",
    "            ground_truth_parents[\"A\"] = [(\"D\", 1), (\"A\", 1)] #+ [(\"B\", i) for i in range(1, ground_truth_lags + 1)]\n",
    "            ground_truth_parents[\"D\"] = [(\"H\", 1), (\"D\", 1)] #+ [(\"E\", i) for i in range(1, ground_truth_lags + 1)]\n",
    "            ground_truth_parents[\"H\"] = [(\"C\", 1), (\"H\", 1)]\n",
    "            ground_truth_parents[\"C\"] = [(\"C\", 1)]\n",
    "            ground_truth_parents[\"F\"] = [(\"C\", 1), (\"F\", 1)]\n",
    "            ground_truth_parents[\"B\"] = [(\"F\", 1), (\"B\", 1)] #+ [(\"A\", i) for i in range(1, ground_truth_lags + 1)]\n",
    "            ground_truth_parents[\"E\"] = [(\"B\", 1), (\"E\", 1)] #+ [(\"D\", i) for i in range(1, ground_truth_lags + 1)]\n",
    "        else:\n",
    "            raise Exception(\"Dataset specified in argument is not implemented\")\n",
    "\n",
    "    elif dataset_name[:4] == \"fMRI\":\n",
    "        index = filename[10:]\n",
    "        index = index[:-4]\n",
    "        g_truth_name = \"fMRI_processed_by_Nauta/ground_truth/sim\" + index + \"_gt_processed.csv\"\n",
    "\n",
    "        df_truth = pd.read_csv(rootdir + \"data/\" + g_truth_name, header=None, sep=\",\")\n",
    "        ground_truth_parents = defaultdict(list)\n",
    "        ground_truth_lags = 0\n",
    "        for cause, effect, lag in df_truth.values:\n",
    "            ground_truth_parents[str(effect)].append((str(cause), lag))\n",
    "            ground_truth_lags = max(ground_truth_lags, lag)\n",
    "\n",
    "    elif dataset_name[:10] == \"FinanceCPT\":\n",
    "\n",
    "        g_truth_name = \"FinanceCPT/ground_truth/\" + filename[:filename.find(\"_returns\")] + \".csv\"\n",
    "        df_truth = pd.read_csv(rootdir + \"data/\" + g_truth_name, header=None, sep=\",\")\n",
    "        ground_truth_parents = defaultdict(list)\n",
    "        ground_truth_lags = 0\n",
    "        for cause, effect, lag in df_truth.values:\n",
    "            ground_truth_parents[str(effect)].append((str(cause), lag))\n",
    "            ground_truth_lags = max(ground_truth_lags, lag)\n",
    "\n",
    "    elif dataset_name[:18] == \"TestCLIM_N-5_T-250\":\n",
    "        g_truth_name = \"TestCLIM_N-5_T-250/estimated_ground_truth/\" + filename\n",
    "        df_truth = pd.read_csv(rootdir + \"data/\" + g_truth_name, header=None, sep=\",\")\n",
    "        ground_truth_parents = defaultdict(list)\n",
    "        ground_truth_lags = 2\n",
    "        for cause, effect in df_truth.values:\n",
    "            ground_truth_parents[str(effect)].append((str(cause), 1))\n",
    "            ground_truth_parents[str(effect)].append((str(cause), 2))\n",
    "    \n",
    "    elif dataset_name==\"VARProcess/returns\":\n",
    "        g_truth_name = \"VARProcess/ground_truths/\"+filename\n",
    "        df_truth = pd.read_csv(rootdir + \"data/\" + g_truth_name, header=None, sep=\",\")\n",
    "        ground_truth_parents = defaultdict(list)\n",
    "        ground_truth_lags = 5\n",
    "        for cause, effect, lag in df_truth.values:\n",
    "            ground_truth_parents[str(effect)].append((str(cause), lag))\n",
    "            \n",
    "    elif dataset_name==\"VARProcessNoCorr/returns\":\n",
    "        g_truth_name = \"VARProcessNoCorr/ground_truths/\"+filename\n",
    "        df_truth = pd.read_csv(rootdir + \"data/\" + g_truth_name, header=None, sep=\",\")\n",
    "        ground_truth_parents = defaultdict(list)\n",
    "        ground_truth_lags = 5\n",
    "        for cause, effect, lag in df_truth.values:\n",
    "            ground_truth_parents[str(effect)].append((str(cause), lag))\n",
    "            \n",
    "    elif dataset_name==\"VARLarge/returns\":\n",
    "        g_truth_name = \"VARLarge/ground_truths/\"+filename\n",
    "        df_truth = pd.read_csv(rootdir + \"data/\" + g_truth_name, header=None, sep=\",\")\n",
    "        ground_truth_parents = defaultdict(list)\n",
    "        ground_truth_lags = 5\n",
    "        for cause, effect, lag in df_truth.values:\n",
    "            ground_truth_parents[str(effect)].append((str(cause), lag))\n",
    "    \n",
    "    elif dataset_name==\"VARSmall/returns\":\n",
    "        g_truth_name = \"VARSmall/ground_truths/\"+filename\n",
    "        df_truth = pd.read_csv(rootdir + \"data/\" + g_truth_name, header=None, sep=\",\")\n",
    "        ground_truth_parents = defaultdict(list)\n",
    "        ground_truth_lags = 5\n",
    "        for cause, effect, lag in df_truth.values:\n",
    "            ground_truth_parents[str(effect)].append((str(cause), lag))\n",
    "            \n",
    "    elif dataset_name==\"VARVaried/returns\":\n",
    "        g_truth_name = \"VARVaried/ground_truths/\"+filename\n",
    "        df_truth = pd.read_csv(rootdir + \"data/\" + g_truth_name, header=None, sep=\",\")\n",
    "        ground_truth_parents = defaultdict(list)\n",
    "        ground_truth_lags = 5\n",
    "        for cause, effect, lag in df_truth.values:\n",
    "            ground_truth_parents[str(effect)].append((str(cause), lag))\n",
    "            \n",
    "    elif dataset_name==\"dgp/piecewise_linear/returns\":\n",
    "        g_truth_name = \"dgp/piecewise_linear/ground_truths/\"+filename\n",
    "        df_truth = pd.read_csv(rootdir + \"data/\" + g_truth_name, header=None, sep=\",\")\n",
    "        ground_truth_parents = defaultdict(list)\n",
    "        ground_truth_lags = 10\n",
    "        for cause, effect, lag in df_truth.values:\n",
    "            ground_truth_parents[str(effect)].append((str(cause), lag))\n",
    "                        \n",
    "    elif dataset_name==\"dgp/monotonic/returns\":\n",
    "        g_truth_name = \"dgp/monotonic/ground_truths/\"+filename\n",
    "        df_truth = pd.read_csv(rootdir + \"data/\" + g_truth_name, header=None, sep=\",\")\n",
    "        ground_truth_parents = defaultdict(list)\n",
    "        ground_truth_lags = 10\n",
    "        for cause, effect, lag in df_truth.values:\n",
    "            ground_truth_parents[str(effect)].append((str(cause), lag))\n",
    "                        \n",
    "    elif dataset_name==\"dgp/trigonometric/returns\":\n",
    "        g_truth_name = \"dgp/trigonometric/ground_truths/\"+filename\n",
    "        df_truth = pd.read_csv(rootdir + \"data/\" + g_truth_name, header=None, sep=\",\")\n",
    "        ground_truth_parents = defaultdict(list)\n",
    "        ground_truth_lags = 10\n",
    "        for cause, effect, lag in df_truth.values:\n",
    "            ground_truth_parents[str(effect)].append((str(cause), lag))\n",
    "            \n",
    "    elif dataset_name==\"wikipediaMathEssencials/returns\":\n",
    "        g_truth_name = \"wikipediaMathEssencials/ground_truths/\"+filename\n",
    "        df_truth = pd.read_csv(rootdir + \"data/\" + g_truth_name, header=None, sep=\",\")\n",
    "        ground_truth_parents = defaultdict(list)\n",
    "        #there is no reason to assume particular lag information from this dataset.\n",
    "        #therefore lag information in ground truth should not be taken into account.\n",
    "        #a default value is put here\n",
    "        ground_truth_lags = 10\n",
    "        for cause, effect in df_truth.values:\n",
    "            ground_truth_parents[str(effect)].append((str(cause), 1))\n",
    "    \n",
    "    elif dataset_name==\"Appliances\":\n",
    "        var_names = [\"Appliances\"]\n",
    "        return df, var_names, None, None\n",
    "\n",
    "    elif dataset_name==\"AusMacro\":\n",
    "        if filename == \"data_0_original.csv\":\n",
    "            var_names = [\"RGDP\",\"CPI-ALL\"]\n",
    "        elif filename == \"data_1_added_IBR.csv\":\n",
    "            var_names = [\"IBR\"]\n",
    "        return df, var_names, None, None\n",
    "    elif dataset_name==\"AusMeteo\":\n",
    "        return df, var_names, None, None\n",
    "            \n",
    "    else:\n",
    "        raise Exception(\"Dataset specified in argument is not implemented\")\n",
    "\n",
    "    ################\n",
    "    #\n",
    "    #   Creating the causal graphs\n",
    "    #\n",
    "    ################\n",
    "\n",
    "    node_names = dict()\n",
    "    for var in var_names:\n",
    "        for lag in range(ground_truth_lags + 1):\n",
    "            node_names[(var, lag)] = \"L\" + str(lag) + \".\" + str(var)\n",
    "\n",
    "    # graph with only parents\n",
    "    ground_truth_graph = nx.DiGraph()\n",
    "    for key in node_names:\n",
    "        ground_truth_graph.add_node(node_names[key])\n",
    "    for key in ground_truth_parents:\n",
    "        child_name = \"L0.\" + str(key)\n",
    "        for parent in ground_truth_parents[key]:\n",
    "            parent_name = \"L\" + str(parent[1]) + \".\" + str(parent[0])\n",
    "            ground_truth_graph.add_edge(parent_name, child_name)\n",
    "\n",
    "    # summary graph (no lags)\n",
    "    summary_graph = nx.DiGraph()\n",
    "    summary_graph.add_nodes_from(var_names)\n",
    "    maxlag = 0\n",
    "    for cause, effect in ground_truth_graph.edges:\n",
    "        lag = cause[1:cause.find(\".\")]\n",
    "        maxlag = max([maxlag, int(lag)])\n",
    "        cause = cause[cause.find(\".\") + 1:]\n",
    "        effect = effect[effect.find(\".\") + 1:]\n",
    "        if not summary_graph.has_edge(cause, effect):\n",
    "            summary_graph.add_edge(cause, effect, lags=[lag])\n",
    "        else:\n",
    "            summary_graph[cause][effect][\"lags\"].append(lag)\n",
    "\n",
    "    # window causal graph\n",
    "    if compute_window_causal_graph:\n",
    "        if window_size==\"max_direct\":\n",
    "            nlags = maxlag\n",
    "        window_graph = nx.DiGraph()\n",
    "        node_names = []\n",
    "        for var in df.columns:\n",
    "            for lag in range(0, nlags):\n",
    "                node_names.append(\"L\" + str(lag) + \".\" + str(var))\n",
    "        window_graph.add_nodes_from(node_names)\n",
    "        for cause, effect in ground_truth_graph.edges:\n",
    "            lag = int(cause[1:cause.find(\".\")])\n",
    "            cause = cause[cause.find(\".\") + 1:]\n",
    "            effect = effect[effect.find(\".\") + 1:]\n",
    "            for L in range(lag, nlags):\n",
    "                window_graph.add_edge(\"L\" + str(L) + \".\" + cause, \"L\" + str(L - lag) + \".\" + effect)\n",
    "        #window_graph_pos = dict([(node,\n",
    "        #                          (1 - int(node[1:node.find(\".\")]) / data_config['pastPointsToForecast'],\n",
    "        #                           1 - VAR_NAMES.index(node[node.find(\".\") + 1:]) / len(VAR_NAMES)))\n",
    "        #                         for node in window_graph.nodes()])\n",
    "    \n",
    "    \n",
    "    # get causes variables    \n",
    "    \n",
    "    causes_attributes_dict = defaultdict(list)\n",
    "\n",
    "    for target_name in var_names:\n",
    "        if cause_extraction == \"parents\":\n",
    "            causes_attributes = get_all_parents(summary_graph, target_name)\n",
    "        elif cause_extraction == \"ancestors\":\n",
    "            causes_attributes = get_all_ancestors(summary_graph, target_name)\n",
    "        elif cause_extraction == \"connected\":\n",
    "            causes_attributes = get_all_connected(summary_graph, target_name)\n",
    "        else:\n",
    "            raise Exception(\"causeExtraction method specified in config file is not implemented\")\n",
    "\n",
    "        causes_attributes_dict[target_name] = list(map(str,causes_attributes))\n",
    "        \n",
    "    # get lagged causes (variables, lag)\n",
    "    # due to the difficulty of specifying a maximum lag, only parent set is returned\n",
    "    \n",
    "    lagged_causes_attributes_dict = defaultdict(list)\n",
    "    for target_name in var_names:\n",
    "        lagged_causes_attributes = get_all_parents(ground_truth_graph, target_name)\n",
    "\n",
    "        lagged_causes_attributes_dict[target_name] = lagged_causes_attributes\n",
    "    \n",
    "    if compute_window_causal_graph:\n",
    "        return df, var_names, causes_attributes_dict, lagged_causes_attributes_dict, window_graph\n",
    "        \n",
    "    return df, var_names, causes_attributes_dict, lagged_causes_attributes_dict"
   ]
  },
  {
   "cell_type": "code",
   "execution_count": 20,
   "id": "a0b80788-89e4-41d4-ae24-358b3d682e29",
   "metadata": {},
   "outputs": [
    {
     "name": "stdout",
     "output_type": "stream",
     "text": [
      "['0', '1', '2', '3', '4', '5', '6', '7', '8', '9']\n"
     ]
    }
   ],
   "source": [
    "dataset_name = \"VARSmall/returns\"\n",
    "filename ='data_0.csv'\n",
    "\n",
    "df, var_names, causes_attributes_dict, lagged_causes_attributes_dict = open_dataset_and_ground_truth(dataset_name, filename, rootdir=\"./\")\n",
    "print(var_names)"
   ]
  },
  {
   "cell_type": "markdown",
   "id": "5723bef7-a0ed-4d19-804e-3b1fc73f5397",
   "metadata": {},
   "source": [
    "# Mesure des performances de l'algorithme sur différents dataset"
   ]
  },
  {
   "cell_type": "code",
   "execution_count": 21,
   "id": "c467d1ad-68ef-4d7e-812c-74e458234053",
   "metadata": {},
   "outputs": [],
   "source": [
    "def compute_stats_selected(totalcolumns, selected, causes, lagged_causes, selection_mode=\"variable\"):\n",
    "    \"\"\"\n",
    "    Compute metrics about the selected set versus the ground truth set.\n",
    "    Params:\n",
    "        totalcolumns: int, total number of columns in the dataset\n",
    "        selected: list of str if selection_mode is \"variable\", the list of selected columns by the feature selection algorithm\n",
    "                  list of (str, int) if selection mode is \"variable, lag\", the list of selected features by the FS algorithm\n",
    "        causes: list of str, the list of ground truth relevant columns (without lag information)\n",
    "        lagged_causes: list of str, the list of ground truth lagged causes. This argument is ignored if selection_mode is \"variable\".\n",
    "        selection_mode (optional): str, \"variable, lag\" if the selected set contains lagged information, \"variable\" otherwise.\n",
    "    Returns:\n",
    "        row: dict, contains the different metrics indexed by name, and the associated value.\n",
    "    \"\"\"\n",
    "    row = {\"FS_size\":len(selected)}\n",
    "    if causes is not None:  # if none, the data has no ground truth graph. So no stats to compute.\n",
    "        if selection_mode == \"variable\":\n",
    "            sPred = set(selected)\n",
    "            sTrue = set(causes)\n",
    "        elif selection_mode == \"variable, lag\":\n",
    "            # assume output is of form (variable, lag)\n",
    "            sPred = set(map(str,selected))\n",
    "            sTrue = set(map(str,lagged_causes))\n",
    "        sTP = sTrue & sPred\n",
    "        recall = len(sTP)/len(sTrue) if len(sTrue)>0 else 0\n",
    "        precision = len(sTP)/len(sPred) if len(sPred)>0 else 0\n",
    "        row = {**row,\n",
    "               \"precision\": precision,\n",
    "               \"recall\": recall,\n",
    "               \"TP\": len(sTP),\n",
    "               \"FP\": len(sPred) - len(sTP),\n",
    "               \"FN\": len(sTrue) - len(sTP),\n",
    "               \"TN\": totalcolumns + len(sTP) - len(sPred) - len(sTrue),\n",
    "               \"f1-score\": 2*precision*recall/(precision+recall) if precision+recall>0  else np.nan}\n",
    "    return row  "
   ]
  },
  {
   "cell_type": "code",
   "execution_count": 63,
   "id": "ecdc56dd-4d5b-4e67-a0a5-49dbdacb8583",
   "metadata": {},
   "outputs": [
    {
     "data": {
      "text/html": [
       "<div>\n",
       "<style scoped>\n",
       "    .dataframe tbody tr th:only-of-type {\n",
       "        vertical-align: middle;\n",
       "    }\n",
       "\n",
       "    .dataframe tbody tr th {\n",
       "        vertical-align: top;\n",
       "    }\n",
       "\n",
       "    .dataframe thead th {\n",
       "        text-align: right;\n",
       "    }\n",
       "</style>\n",
       "<table border=\"1\" class=\"dataframe\">\n",
       "  <thead>\n",
       "    <tr style=\"text-align: right;\">\n",
       "      <th></th>\n",
       "      <th>0</th>\n",
       "      <th>1</th>\n",
       "      <th>2</th>\n",
       "      <th>3</th>\n",
       "      <th>4</th>\n",
       "      <th>5</th>\n",
       "      <th>6</th>\n",
       "      <th>7</th>\n",
       "      <th>8</th>\n",
       "      <th>9</th>\n",
       "    </tr>\n",
       "  </thead>\n",
       "  <tbody>\n",
       "    <tr>\n",
       "      <th>0</th>\n",
       "      <td>1.908825</td>\n",
       "      <td>2.596074</td>\n",
       "      <td>1.034724</td>\n",
       "      <td>-1.135257</td>\n",
       "      <td>0.065906</td>\n",
       "      <td>0.690409</td>\n",
       "      <td>0.299535</td>\n",
       "      <td>2.302776</td>\n",
       "      <td>9.716769</td>\n",
       "      <td>1.561069</td>\n",
       "    </tr>\n",
       "    <tr>\n",
       "      <th>1</th>\n",
       "      <td>-0.879137</td>\n",
       "      <td>-4.424467</td>\n",
       "      <td>1.137162</td>\n",
       "      <td>0.087949</td>\n",
       "      <td>0.102395</td>\n",
       "      <td>-0.400663</td>\n",
       "      <td>-1.198871</td>\n",
       "      <td>-0.984148</td>\n",
       "      <td>-9.917783</td>\n",
       "      <td>-1.242453</td>\n",
       "    </tr>\n",
       "    <tr>\n",
       "      <th>2</th>\n",
       "      <td>2.587432</td>\n",
       "      <td>3.656558</td>\n",
       "      <td>1.415186</td>\n",
       "      <td>0.583370</td>\n",
       "      <td>-1.915475</td>\n",
       "      <td>2.050390</td>\n",
       "      <td>-0.768140</td>\n",
       "      <td>2.493813</td>\n",
       "      <td>9.072561</td>\n",
       "      <td>3.836841</td>\n",
       "    </tr>\n",
       "    <tr>\n",
       "      <th>3</th>\n",
       "      <td>-2.231217</td>\n",
       "      <td>-3.539309</td>\n",
       "      <td>1.297854</td>\n",
       "      <td>0.665354</td>\n",
       "      <td>0.937309</td>\n",
       "      <td>0.245306</td>\n",
       "      <td>0.029198</td>\n",
       "      <td>-1.995012</td>\n",
       "      <td>-8.946506</td>\n",
       "      <td>-2.439790</td>\n",
       "    </tr>\n",
       "    <tr>\n",
       "      <th>4</th>\n",
       "      <td>0.574858</td>\n",
       "      <td>2.314810</td>\n",
       "      <td>1.466120</td>\n",
       "      <td>-0.557164</td>\n",
       "      <td>0.605155</td>\n",
       "      <td>2.716257</td>\n",
       "      <td>-0.139845</td>\n",
       "      <td>-0.359748</td>\n",
       "      <td>10.522100</td>\n",
       "      <td>2.828474</td>\n",
       "    </tr>\n",
       "    <tr>\n",
       "      <th>...</th>\n",
       "      <td>...</td>\n",
       "      <td>...</td>\n",
       "      <td>...</td>\n",
       "      <td>...</td>\n",
       "      <td>...</td>\n",
       "      <td>...</td>\n",
       "      <td>...</td>\n",
       "      <td>...</td>\n",
       "      <td>...</td>\n",
       "      <td>...</td>\n",
       "    </tr>\n",
       "    <tr>\n",
       "      <th>3495</th>\n",
       "      <td>-2.024658</td>\n",
       "      <td>1.516321</td>\n",
       "      <td>-0.704286</td>\n",
       "      <td>3.091474</td>\n",
       "      <td>2.312899</td>\n",
       "      <td>-1.841740</td>\n",
       "      <td>1.355696</td>\n",
       "      <td>0.587832</td>\n",
       "      <td>0.341100</td>\n",
       "      <td>0.601310</td>\n",
       "    </tr>\n",
       "    <tr>\n",
       "      <th>3496</th>\n",
       "      <td>-1.949521</td>\n",
       "      <td>1.807881</td>\n",
       "      <td>-1.632682</td>\n",
       "      <td>-2.187092</td>\n",
       "      <td>-1.139934</td>\n",
       "      <td>-0.829941</td>\n",
       "      <td>-0.792240</td>\n",
       "      <td>-0.340167</td>\n",
       "      <td>0.301370</td>\n",
       "      <td>-0.920667</td>\n",
       "    </tr>\n",
       "    <tr>\n",
       "      <th>3497</th>\n",
       "      <td>0.506805</td>\n",
       "      <td>0.413058</td>\n",
       "      <td>-0.834793</td>\n",
       "      <td>1.636813</td>\n",
       "      <td>-0.583988</td>\n",
       "      <td>-0.969869</td>\n",
       "      <td>-0.583781</td>\n",
       "      <td>-0.309219</td>\n",
       "      <td>2.055202</td>\n",
       "      <td>0.256696</td>\n",
       "    </tr>\n",
       "    <tr>\n",
       "      <th>3498</th>\n",
       "      <td>-1.321734</td>\n",
       "      <td>-0.145013</td>\n",
       "      <td>0.422454</td>\n",
       "      <td>0.768626</td>\n",
       "      <td>0.225386</td>\n",
       "      <td>2.520439</td>\n",
       "      <td>2.534386</td>\n",
       "      <td>-1.053802</td>\n",
       "      <td>-0.367389</td>\n",
       "      <td>-0.932409</td>\n",
       "    </tr>\n",
       "    <tr>\n",
       "      <th>3499</th>\n",
       "      <td>-2.170128</td>\n",
       "      <td>-0.522449</td>\n",
       "      <td>-1.347369</td>\n",
       "      <td>1.343511</td>\n",
       "      <td>0.273941</td>\n",
       "      <td>1.247612</td>\n",
       "      <td>-2.186648</td>\n",
       "      <td>0.762728</td>\n",
       "      <td>0.394312</td>\n",
       "      <td>-0.524347</td>\n",
       "    </tr>\n",
       "  </tbody>\n",
       "</table>\n",
       "<p>3500 rows × 10 columns</p>\n",
       "</div>"
      ],
      "text/plain": [
       "             0         1         2         3         4         5         6  \\\n",
       "0     1.908825  2.596074  1.034724 -1.135257  0.065906  0.690409  0.299535   \n",
       "1    -0.879137 -4.424467  1.137162  0.087949  0.102395 -0.400663 -1.198871   \n",
       "2     2.587432  3.656558  1.415186  0.583370 -1.915475  2.050390 -0.768140   \n",
       "3    -2.231217 -3.539309  1.297854  0.665354  0.937309  0.245306  0.029198   \n",
       "4     0.574858  2.314810  1.466120 -0.557164  0.605155  2.716257 -0.139845   \n",
       "...        ...       ...       ...       ...       ...       ...       ...   \n",
       "3495 -2.024658  1.516321 -0.704286  3.091474  2.312899 -1.841740  1.355696   \n",
       "3496 -1.949521  1.807881 -1.632682 -2.187092 -1.139934 -0.829941 -0.792240   \n",
       "3497  0.506805  0.413058 -0.834793  1.636813 -0.583988 -0.969869 -0.583781   \n",
       "3498 -1.321734 -0.145013  0.422454  0.768626  0.225386  2.520439  2.534386   \n",
       "3499 -2.170128 -0.522449 -1.347369  1.343511  0.273941  1.247612 -2.186648   \n",
       "\n",
       "             7          8         9  \n",
       "0     2.302776   9.716769  1.561069  \n",
       "1    -0.984148  -9.917783 -1.242453  \n",
       "2     2.493813   9.072561  3.836841  \n",
       "3    -1.995012  -8.946506 -2.439790  \n",
       "4    -0.359748  10.522100  2.828474  \n",
       "...        ...        ...       ...  \n",
       "3495  0.587832   0.341100  0.601310  \n",
       "3496 -0.340167   0.301370 -0.920667  \n",
       "3497 -0.309219   2.055202  0.256696  \n",
       "3498 -1.053802  -0.367389 -0.932409  \n",
       "3499  0.762728   0.394312 -0.524347  \n",
       "\n",
       "[3500 rows x 10 columns]"
      ]
     },
     "execution_count": 63,
     "metadata": {},
     "output_type": "execute_result"
    }
   ],
   "source": [
    "data"
   ]
  },
  {
   "cell_type": "code",
   "execution_count": 22,
   "id": "75844afa-87e2-48d7-b50a-f46f18559db7",
   "metadata": {},
   "outputs": [
    {
     "name": "stderr",
     "output_type": "stream",
     "text": [
      "100%|██████████| 10/10 [00:02<00:00,  3.52it/s]"
     ]
    },
    {
     "name": "stdout",
     "output_type": "stream",
     "text": [
      "{'FS_size': 8, 'precision': 0.75, 'recall': 1.0, 'TP': 6, 'FP': 2, 'FN': 0, 'TN': 2, 'f1-score': 0.8571428571428571}\n"
     ]
    },
    {
     "name": "stderr",
     "output_type": "stream",
     "text": [
      "\n"
     ]
    }
   ],
   "source": [
    "target='2'\n",
    "config['num_features_to_select'] = 50\n",
    "selected=apply_mrmr(df,10,target)\n",
    "ground_truth_causes = causes_attributes_dict[target]\n",
    "total_columns=len(df.columns)\n",
    "stats = compute_stats_selected(total_columns, selected, ground_truth_causes, None, selection_mode=\"variable\")\n",
    "print(stats)"
   ]
  },
  {
   "cell_type": "code",
   "execution_count": 111,
   "id": "1c2afac7-67c5-4ee2-8a20-360cd0997d54",
   "metadata": {},
   "outputs": [
    {
     "data": {
      "text/plain": [
       "['2', '3', '4', '5', '7', '9']"
      ]
     },
     "execution_count": 111,
     "metadata": {},
     "output_type": "execute_result"
    }
   ],
   "source": [
    "causes_attributes_dict[target]"
   ]
  },
  {
   "cell_type": "code",
   "execution_count": 112,
   "id": "4bfe2921-35e4-4294-a807-b69ee9d75d15",
   "metadata": {},
   "outputs": [
    {
     "data": {
      "text/plain": [
       "['0', '1', '2', '3', '4', '5', '6', '7', '8', '9']"
      ]
     },
     "execution_count": 112,
     "metadata": {},
     "output_type": "execute_result"
    }
   ],
   "source": [
    "selected"
   ]
  },
  {
   "cell_type": "markdown",
   "id": "96fb8e3d-3b59-49ab-85ec-b070085fa206",
   "metadata": {},
   "source": [
    "# Résultats pour VARSmall"
   ]
  },
  {
   "cell_type": "code",
   "execution_count": 23,
   "id": "621c9a97-1667-4959-8417-6e780355504e",
   "metadata": {},
   "outputs": [
    {
     "name": "stdout",
     "output_type": "stream",
     "text": [
      "['0', '1', '2', '3', '4', '5', '6', '7', '8', '9']\n"
     ]
    }
   ],
   "source": [
    "data_path = 'data/VARSmall/returns'\n",
    "data = pd.read_csv(data_path+'/'+'data_0.csv', header=0)\n",
    "\n",
    "\n",
    "dataset_name = \"VARSmall/returns\"\n",
    "filename ='data_0.csv'\n",
    "\n",
    "df, var_names, causes_attributes_dict, lagged_causes_attributes_dict = open_dataset_and_ground_truth(dataset_name, filename, rootdir=\"./\")\n",
    "print(var_names)"
   ]
  },
  {
   "cell_type": "code",
   "execution_count": 71,
   "id": "d74fc2ee-44a8-4bc2-81f0-399b40b025cb",
   "metadata": {},
   "outputs": [
    {
     "ename": "KeyError",
     "evalue": "'5'",
     "output_type": "error",
     "traceback": [
      "\u001b[0;31m---------------------------------------------------------------------------\u001b[0m",
      "\u001b[0;31mKeyError\u001b[0m                                  Traceback (most recent call last)",
      "File \u001b[0;32m/usr/local/lib/python3.10/dist-packages/pandas/core/indexes/base.py:3790\u001b[0m, in \u001b[0;36mIndex.get_loc\u001b[0;34m(self, key)\u001b[0m\n\u001b[1;32m   3789\u001b[0m \u001b[38;5;28;01mtry\u001b[39;00m:\n\u001b[0;32m-> 3790\u001b[0m     \u001b[38;5;28;01mreturn\u001b[39;00m \u001b[38;5;28;43mself\u001b[39;49m\u001b[38;5;241;43m.\u001b[39;49m\u001b[43m_engine\u001b[49m\u001b[38;5;241;43m.\u001b[39;49m\u001b[43mget_loc\u001b[49m\u001b[43m(\u001b[49m\u001b[43mcasted_key\u001b[49m\u001b[43m)\u001b[49m\n\u001b[1;32m   3791\u001b[0m \u001b[38;5;28;01mexcept\u001b[39;00m \u001b[38;5;167;01mKeyError\u001b[39;00m \u001b[38;5;28;01mas\u001b[39;00m err:\n",
      "File \u001b[0;32mindex.pyx:152\u001b[0m, in \u001b[0;36mpandas._libs.index.IndexEngine.get_loc\u001b[0;34m()\u001b[0m\n",
      "File \u001b[0;32mindex.pyx:181\u001b[0m, in \u001b[0;36mpandas._libs.index.IndexEngine.get_loc\u001b[0;34m()\u001b[0m\n",
      "File \u001b[0;32mpandas/_libs/hashtable_class_helper.pxi:7080\u001b[0m, in \u001b[0;36mpandas._libs.hashtable.PyObjectHashTable.get_item\u001b[0;34m()\u001b[0m\n",
      "File \u001b[0;32mpandas/_libs/hashtable_class_helper.pxi:7088\u001b[0m, in \u001b[0;36mpandas._libs.hashtable.PyObjectHashTable.get_item\u001b[0;34m()\u001b[0m\n",
      "\u001b[0;31mKeyError\u001b[0m: '5'",
      "\nThe above exception was the direct cause of the following exception:\n",
      "\u001b[0;31mKeyError\u001b[0m                                  Traceback (most recent call last)",
      "Cell \u001b[0;32mIn[71], line 3\u001b[0m\n\u001b[1;32m      1\u001b[0m target\u001b[38;5;241m=\u001b[39m\u001b[38;5;124m'\u001b[39m\u001b[38;5;124m5\u001b[39m\u001b[38;5;124m'\u001b[39m\n\u001b[1;32m      2\u001b[0m config[\u001b[38;5;124m'\u001b[39m\u001b[38;5;124mnum_features_to_select\u001b[39m\u001b[38;5;124m'\u001b[39m] \u001b[38;5;241m=\u001b[39m \u001b[38;5;241m50\u001b[39m\n\u001b[0;32m----> 3\u001b[0m selected\u001b[38;5;241m=\u001b[39m\u001b[43mapply_mrmr\u001b[49m\u001b[43m(\u001b[49m\u001b[43mdf\u001b[49m\u001b[43m,\u001b[49m\u001b[38;5;241;43m2\u001b[39;49m\u001b[43m,\u001b[49m\u001b[43mtarget\u001b[49m\u001b[43m)\u001b[49m\n\u001b[1;32m      4\u001b[0m ground_truth_causes \u001b[38;5;241m=\u001b[39m causes_attributes_dict[target]\n\u001b[1;32m      5\u001b[0m total_columns\u001b[38;5;241m=\u001b[39m\u001b[38;5;28mlen\u001b[39m(df\u001b[38;5;241m.\u001b[39mcolumns)\n",
      "Cell \u001b[0;32mIn[40], line 2\u001b[0m, in \u001b[0;36mapply_mrmr\u001b[0;34m(data, i, target)\u001b[0m\n\u001b[1;32m      1\u001b[0m \u001b[38;5;28;01mdef\u001b[39;00m \u001b[38;5;21mapply_mrmr\u001b[39m(data, i,target):\n\u001b[0;32m----> 2\u001b[0m         X, y, _ \u001b[38;5;241m=\u001b[39m \u001b[43mprepare_data_vectorize\u001b[49m\u001b[43m(\u001b[49m\u001b[43mdata\u001b[49m\u001b[43m,\u001b[49m\u001b[43m \u001b[49m\u001b[43mconfig\u001b[49m\u001b[43m[\u001b[49m\u001b[38;5;124;43m'\u001b[39;49m\u001b[38;5;124;43mlags\u001b[39;49m\u001b[38;5;124;43m'\u001b[39;49m\u001b[43m]\u001b[49m\u001b[43m,\u001b[49m\u001b[43mtarget\u001b[49m\u001b[43m)\u001b[49m\n\u001b[1;32m      3\u001b[0m         X_df \u001b[38;5;241m=\u001b[39m pd\u001b[38;5;241m.\u001b[39mDataFrame(X, columns\u001b[38;5;241m=\u001b[39m[\u001b[38;5;124mf\u001b[39m\u001b[38;5;124m'\u001b[39m\u001b[38;5;124mlag_\u001b[39m\u001b[38;5;132;01m{\u001b[39;00mi\u001b[38;5;132;01m}\u001b[39;00m\u001b[38;5;124m'\u001b[39m \u001b[38;5;28;01mfor\u001b[39;00m i \u001b[38;5;129;01min\u001b[39;00m \u001b[38;5;28mrange\u001b[39m(\u001b[38;5;241m1\u001b[39m, X\u001b[38;5;241m.\u001b[39mshape[\u001b[38;5;241m1\u001b[39m] \u001b[38;5;241m+\u001b[39m \u001b[38;5;241m1\u001b[39m)])\n\u001b[1;32m      4\u001b[0m         num_features_to_select \u001b[38;5;241m=\u001b[39m config[\u001b[38;5;124m'\u001b[39m\u001b[38;5;124mnum_features_to_select\u001b[39m\u001b[38;5;124m'\u001b[39m]\n",
      "Cell \u001b[0;32mIn[4], line 5\u001b[0m, in \u001b[0;36mprepare_data_vectorize\u001b[0;34m(data, lags, target)\u001b[0m\n\u001b[1;32m      3\u001b[0m lags \u001b[38;5;241m=\u001b[39m lags\n\u001b[1;32m      4\u001b[0m \u001b[38;5;66;03m# used to vectorize several timesteps in a dimension 1 vector.\u001b[39;00m\n\u001b[0;32m----> 5\u001b[0m y \u001b[38;5;241m=\u001b[39m \u001b[43mdata\u001b[49m\u001b[43m[\u001b[49m\u001b[43mtarget\u001b[49m\u001b[43m]\u001b[49m\u001b[38;5;241m.\u001b[39miloc[lags:]\n\u001b[1;32m      6\u001b[0m indexes \u001b[38;5;241m=\u001b[39m y\u001b[38;5;241m.\u001b[39mindex\n\u001b[1;32m      7\u001b[0m y \u001b[38;5;241m=\u001b[39m y\u001b[38;5;241m.\u001b[39mvalues\n",
      "File \u001b[0;32m/usr/local/lib/python3.10/dist-packages/pandas/core/frame.py:3896\u001b[0m, in \u001b[0;36mDataFrame.__getitem__\u001b[0;34m(self, key)\u001b[0m\n\u001b[1;32m   3894\u001b[0m \u001b[38;5;28;01mif\u001b[39;00m \u001b[38;5;28mself\u001b[39m\u001b[38;5;241m.\u001b[39mcolumns\u001b[38;5;241m.\u001b[39mnlevels \u001b[38;5;241m>\u001b[39m \u001b[38;5;241m1\u001b[39m:\n\u001b[1;32m   3895\u001b[0m     \u001b[38;5;28;01mreturn\u001b[39;00m \u001b[38;5;28mself\u001b[39m\u001b[38;5;241m.\u001b[39m_getitem_multilevel(key)\n\u001b[0;32m-> 3896\u001b[0m indexer \u001b[38;5;241m=\u001b[39m \u001b[38;5;28;43mself\u001b[39;49m\u001b[38;5;241;43m.\u001b[39;49m\u001b[43mcolumns\u001b[49m\u001b[38;5;241;43m.\u001b[39;49m\u001b[43mget_loc\u001b[49m\u001b[43m(\u001b[49m\u001b[43mkey\u001b[49m\u001b[43m)\u001b[49m\n\u001b[1;32m   3897\u001b[0m \u001b[38;5;28;01mif\u001b[39;00m is_integer(indexer):\n\u001b[1;32m   3898\u001b[0m     indexer \u001b[38;5;241m=\u001b[39m [indexer]\n",
      "File \u001b[0;32m/usr/local/lib/python3.10/dist-packages/pandas/core/indexes/base.py:3797\u001b[0m, in \u001b[0;36mIndex.get_loc\u001b[0;34m(self, key)\u001b[0m\n\u001b[1;32m   3792\u001b[0m     \u001b[38;5;28;01mif\u001b[39;00m \u001b[38;5;28misinstance\u001b[39m(casted_key, \u001b[38;5;28mslice\u001b[39m) \u001b[38;5;129;01mor\u001b[39;00m (\n\u001b[1;32m   3793\u001b[0m         \u001b[38;5;28misinstance\u001b[39m(casted_key, abc\u001b[38;5;241m.\u001b[39mIterable)\n\u001b[1;32m   3794\u001b[0m         \u001b[38;5;129;01mand\u001b[39;00m \u001b[38;5;28many\u001b[39m(\u001b[38;5;28misinstance\u001b[39m(x, \u001b[38;5;28mslice\u001b[39m) \u001b[38;5;28;01mfor\u001b[39;00m x \u001b[38;5;129;01min\u001b[39;00m casted_key)\n\u001b[1;32m   3795\u001b[0m     ):\n\u001b[1;32m   3796\u001b[0m         \u001b[38;5;28;01mraise\u001b[39;00m InvalidIndexError(key)\n\u001b[0;32m-> 3797\u001b[0m     \u001b[38;5;28;01mraise\u001b[39;00m \u001b[38;5;167;01mKeyError\u001b[39;00m(key) \u001b[38;5;28;01mfrom\u001b[39;00m \u001b[38;5;21;01merr\u001b[39;00m\n\u001b[1;32m   3798\u001b[0m \u001b[38;5;28;01mexcept\u001b[39;00m \u001b[38;5;167;01mTypeError\u001b[39;00m:\n\u001b[1;32m   3799\u001b[0m     \u001b[38;5;66;03m# If we have a listlike key, _check_indexing_error will raise\u001b[39;00m\n\u001b[1;32m   3800\u001b[0m     \u001b[38;5;66;03m#  InvalidIndexError. Otherwise we fall through and re-raise\u001b[39;00m\n\u001b[1;32m   3801\u001b[0m     \u001b[38;5;66;03m#  the TypeError.\u001b[39;00m\n\u001b[1;32m   3802\u001b[0m     \u001b[38;5;28mself\u001b[39m\u001b[38;5;241m.\u001b[39m_check_indexing_error(key)\n",
      "\u001b[0;31mKeyError\u001b[0m: '5'"
     ]
    }
   ],
   "source": [
    "target='5'\n",
    "config['num_features_to_select'] = 50\n",
    "selected=apply_mrmr(df,2,target)\n",
    "ground_truth_causes = causes_attributes_dict[target]\n",
    "total_columns=len(df.columns)\n",
    "stats = compute_stats_selected(total_columns, selected, ground_truth_causes, None, selection_mode=\"variable\")\n",
    "print(stats)\n",
    "print (selected)"
   ]
  },
  {
   "cell_type": "code",
   "execution_count": 24,
   "id": "25a98add-2004-45d6-a69c-6b14716c9103",
   "metadata": {},
   "outputs": [
    {
     "name": "stderr",
     "output_type": "stream",
     "text": [
      "0it [00:00, ?it/s]\n"
     ]
    },
    {
     "name": "stdout",
     "output_type": "stream",
     "text": [
      "[0]\n",
      "[0]\n",
      "[0.0]\n"
     ]
    },
    {
     "name": "stderr",
     "output_type": "stream",
     "text": [
      "100%|██████████| 1/1 [00:00<00:00, 445.35it/s]\n"
     ]
    },
    {
     "name": "stdout",
     "output_type": "stream",
     "text": [
      "[0, 1]\n",
      "[0, 1.0]\n",
      "[0.0, 0.16666666666666666]\n"
     ]
    },
    {
     "name": "stderr",
     "output_type": "stream",
     "text": [
      "100%|██████████| 2/2 [00:00<00:00,  6.52it/s]"
     ]
    },
    {
     "name": "stdout",
     "output_type": "stream",
     "text": [
      "[0, 1, 2]\n",
      "[0, 1.0, 0.5]\n",
      "[0.0, 0.16666666666666666, 0.16666666666666666]\n"
     ]
    },
    {
     "name": "stderr",
     "output_type": "stream",
     "text": [
      "\n",
      "100%|██████████| 3/3 [00:00<00:00,  4.20it/s]"
     ]
    },
    {
     "name": "stdout",
     "output_type": "stream",
     "text": [
      "[0, 1, 2, 3]\n",
      "[0, 1.0, 0.5, 0.6666666666666666]\n",
      "[0.0, 0.16666666666666666, 0.16666666666666666, 0.3333333333333333]\n"
     ]
    },
    {
     "name": "stderr",
     "output_type": "stream",
     "text": [
      "\n",
      "100%|██████████| 4/4 [00:01<00:00,  3.41it/s]"
     ]
    },
    {
     "name": "stdout",
     "output_type": "stream",
     "text": [
      "[0, 1, 2, 3, 4]\n",
      "[0, 1.0, 0.5, 0.6666666666666666, 0.75]\n",
      "[0.0, 0.16666666666666666, 0.16666666666666666, 0.3333333333333333, 0.5]\n"
     ]
    },
    {
     "name": "stderr",
     "output_type": "stream",
     "text": [
      "\n",
      "100%|██████████| 5/5 [00:01<00:00,  3.81it/s]"
     ]
    },
    {
     "name": "stdout",
     "output_type": "stream",
     "text": [
      "[0, 1, 2, 3, 4, 5]\n",
      "[0, 1.0, 0.5, 0.6666666666666666, 0.75, 0.8]\n",
      "[0.0, 0.16666666666666666, 0.16666666666666666, 0.3333333333333333, 0.5, 0.6666666666666666]\n"
     ]
    },
    {
     "name": "stderr",
     "output_type": "stream",
     "text": [
      "\n",
      "100%|██████████| 6/6 [00:01<00:00,  3.49it/s]"
     ]
    },
    {
     "name": "stdout",
     "output_type": "stream",
     "text": [
      "[0, 1, 2, 3, 4, 5, 6]\n",
      "[0, 1.0, 0.5, 0.6666666666666666, 0.75, 0.8, 0.8333333333333334]\n",
      "[0.0, 0.16666666666666666, 0.16666666666666666, 0.3333333333333333, 0.5, 0.6666666666666666, 0.8333333333333334]\n"
     ]
    },
    {
     "name": "stderr",
     "output_type": "stream",
     "text": [
      "\n",
      "100%|██████████| 7/7 [00:02<00:00,  3.49it/s]"
     ]
    },
    {
     "name": "stdout",
     "output_type": "stream",
     "text": [
      "[0, 1, 2, 3, 4, 5, 6, 7]\n",
      "[0, 1.0, 0.5, 0.6666666666666666, 0.75, 0.8, 0.8333333333333334, 0.8333333333333334]\n",
      "[0.0, 0.16666666666666666, 0.16666666666666666, 0.3333333333333333, 0.5, 0.6666666666666666, 0.8333333333333334, 0.8333333333333334]\n"
     ]
    },
    {
     "name": "stderr",
     "output_type": "stream",
     "text": [
      "\n",
      "100%|██████████| 8/8 [00:02<00:00,  3.84it/s]"
     ]
    },
    {
     "name": "stdout",
     "output_type": "stream",
     "text": [
      "[0, 1, 2, 3, 4, 5, 6, 7, 8]\n",
      "[0, 1.0, 0.5, 0.6666666666666666, 0.75, 0.8, 0.8333333333333334, 0.8333333333333334, 0.7142857142857143]\n",
      "[0.0, 0.16666666666666666, 0.16666666666666666, 0.3333333333333333, 0.5, 0.6666666666666666, 0.8333333333333334, 0.8333333333333334, 0.8333333333333334]\n"
     ]
    },
    {
     "name": "stderr",
     "output_type": "stream",
     "text": [
      "\n",
      "100%|██████████| 9/9 [00:02<00:00,  3.39it/s]"
     ]
    },
    {
     "name": "stdout",
     "output_type": "stream",
     "text": [
      "[0, 1, 2, 3, 4, 5, 6, 7, 8, 9]\n",
      "[0, 1.0, 0.5, 0.6666666666666666, 0.75, 0.8, 0.8333333333333334, 0.8333333333333334, 0.7142857142857143, 0.75]\n",
      "[0.0, 0.16666666666666666, 0.16666666666666666, 0.3333333333333333, 0.5, 0.6666666666666666, 0.8333333333333334, 0.8333333333333334, 0.8333333333333334, 1.0]\n"
     ]
    },
    {
     "name": "stderr",
     "output_type": "stream",
     "text": [
      "\n"
     ]
    }
   ],
   "source": [
    "Y,X,Z=[],[],[]\n",
    "target='2'\n",
    "config['num_features_to_select'] = 10\n",
    "n_feature=0 \n",
    "for i in range(0,10):\n",
    "    #target=random.choice(var_names)\n",
    "    selected=apply_mrmr(df,n_feature,target)\n",
    "    dict_metrics=compute_stats_selected(total_columns,selected,ground_truth_causes,None,selection_mode=\"variable\")\n",
    "    Y.append(dict_metrics['precision'])\n",
    "    X.append(n_feature)\n",
    "    Z.append(dict_metrics['recall'])\n",
    "    print(X)\n",
    "    print(Y)\n",
    "    print(Z)\n",
    "    n_feature+=1\n"
   ]
  },
  {
   "cell_type": "code",
   "execution_count": 25,
   "id": "b3f98a14-4c23-4f5e-a7c2-5106de7ce25b",
   "metadata": {},
   "outputs": [
    {
     "name": "stdout",
     "output_type": "stream",
     "text": [
      "Pour la target \"2\"\n"
     ]
    },
    {
     "data": {
      "text/plain": [
       "Text(0.5, 1.0, 'Evolution of precision & recall based on number of features for dataset VARSmall ')"
      ]
     },
     "execution_count": 25,
     "metadata": {},
     "output_type": "execute_result"
    },
    {
     "data": {
      "image/png": "[encoded data removed]",
      "text/plain": [
       "<Figure size 640x480 with 1 Axes>"
      ]
     },
     "metadata": {},
     "output_type": "display_data"
    }
   ],
   "source": [
    "print(f'Pour la target \"{target}\"')\n",
    "plt.plot(X,Y,'b',label='precision')\n",
    "plt.plot(X,Z,'g',label='recall')\n",
    "plt.legend()\n",
    "plt.xlabel('Selected Features')\n",
    "plt.ylabel('Precision | Recall ')\n",
    "plt.title('Evolution of precision & recall based on number of features for dataset VARSmall ')"
   ]
  },
  {
   "cell_type": "markdown",
   "id": "f7f8031f-85bb-4bd8-938f-d1dd4dac1b97",
   "metadata": {},
   "source": [
    "# Résultats pour dgp monotonic"
   ]
  },
  {
   "cell_type": "code",
   "execution_count": 66,
   "id": "626eae30-7578-4d1e-8bd4-84f4739e1a5a",
   "metadata": {},
   "outputs": [
    {
     "name": "stdout",
     "output_type": "stream",
     "text": [
      "['X1', 'X10', 'X100', 'X1000', 'X101', 'X102', 'X103', 'X104', 'X105', 'X106', 'X107', 'X108', 'X109', 'X11', 'X110', 'X111', 'X112', 'X113', 'X114', 'X115', 'X116', 'X117', 'X118', 'X119', 'X12', 'X120', 'X121', 'X122', 'X123', 'X124', 'X125', 'X126', 'X127', 'X128', 'X129', 'X13', 'X130', 'X131', 'X132', 'X133', 'X134', 'X135', 'X136', 'X137', 'X138', 'X139', 'X14', 'X140', 'X141', 'X142', 'X143', 'X144', 'X145', 'X146', 'X147', 'X148', 'X149', 'X15', 'X150', 'X151', 'X152', 'X153', 'X154', 'X155', 'X156', 'X157', 'X158', 'X159', 'X16', 'X160', 'X161', 'X162', 'X163', 'X164', 'X165', 'X166', 'X167', 'X168', 'X169', 'X17', 'X170', 'X171', 'X172', 'X173', 'X174', 'X175', 'X176', 'X177', 'X178', 'X179', 'X18', 'X180', 'X181', 'X182', 'X183', 'X184', 'X185', 'X186', 'X187', 'X188', 'X189', 'X19', 'X190', 'X191', 'X192', 'X193', 'X194', 'X195', 'X196', 'X197', 'X198', 'X199', 'X2', 'X20', 'X200', 'X201', 'X202', 'X203', 'X204', 'X205', 'X206', 'X207', 'X208', 'X209', 'X21', 'X210', 'X211', 'X212', 'X213', 'X214', 'X215', 'X216', 'X217', 'X218', 'X219', 'X22', 'X220', 'X221', 'X222', 'X223', 'X224', 'X225', 'X226', 'X227', 'X228', 'X229', 'X23', 'X230', 'X231', 'X232', 'X233', 'X234', 'X235', 'X236', 'X237', 'X238', 'X239', 'X24', 'X240', 'X241', 'X242', 'X243', 'X244', 'X245', 'X246', 'X247', 'X248', 'X249', 'X25', 'X250', 'X251', 'X252', 'X253', 'X254', 'X255', 'X256', 'X257', 'X258', 'X259', 'X26', 'X260', 'X261', 'X262', 'X263', 'X264', 'X265', 'X266', 'X267', 'X268', 'X269', 'X27', 'X270', 'X271', 'X272', 'X273', 'X274', 'X275', 'X276', 'X277', 'X278', 'X279', 'X28', 'X280', 'X281', 'X282', 'X283', 'X284', 'X285', 'X286', 'X287', 'X288', 'X289', 'X29', 'X290', 'X291', 'X292', 'X293', 'X294', 'X295', 'X296', 'X297', 'X298', 'X299', 'X3', 'X30', 'X300', 'X301', 'X302', 'X303', 'X304', 'X305', 'X306', 'X307', 'X308', 'X309', 'X31', 'X310', 'X311', 'X312', 'X313', 'X314', 'X315', 'X316', 'X317', 'X318', 'X319', 'X32', 'X320', 'X321', 'X322', 'X323', 'X324', 'X325', 'X326', 'X327', 'X328', 'X329', 'X33', 'X330', 'X331', 'X332', 'X333', 'X334', 'X335', 'X336', 'X337', 'X338', 'X339', 'X34', 'X340', 'X341', 'X342', 'X343', 'X344', 'X345', 'X346', 'X347', 'X348', 'X349', 'X35', 'X350', 'X351', 'X352', 'X353', 'X354', 'X355', 'X356', 'X357', 'X358', 'X359', 'X36', 'X360', 'X361', 'X362', 'X363', 'X364', 'X365', 'X366', 'X367', 'X368', 'X369', 'X37', 'X370', 'X371', 'X372', 'X373', 'X374', 'X375', 'X376', 'X377', 'X378', 'X379', 'X38', 'X380', 'X381', 'X382', 'X383', 'X384', 'X385', 'X386', 'X387', 'X388', 'X389', 'X39', 'X390', 'X391', 'X392', 'X393', 'X394', 'X395', 'X396', 'X397', 'X398', 'X399', 'X4', 'X40', 'X400', 'X401', 'X402', 'X403', 'X404', 'X405', 'X406', 'X407', 'X408', 'X409', 'X41', 'X410', 'X411', 'X412', 'X413', 'X414', 'X415', 'X416', 'X417', 'X418', 'X419', 'X42', 'X420', 'X421', 'X422', 'X423', 'X424', 'X425', 'X426', 'X427', 'X428', 'X429', 'X43', 'X430', 'X431', 'X432', 'X433', 'X434', 'X435', 'X436', 'X437', 'X438', 'X439', 'X44', 'X440', 'X441', 'X442', 'X443', 'X444', 'X445', 'X446', 'X447', 'X448', 'X449', 'X45', 'X450', 'X451', 'X452', 'X453', 'X454', 'X455', 'X456', 'X457', 'X458', 'X459', 'X46', 'X460', 'X461', 'X462', 'X463', 'X464', 'X465', 'X466', 'X467', 'X468', 'X469', 'X47', 'X470', 'X471', 'X472', 'X473', 'X474', 'X475', 'X476', 'X477', 'X478', 'X479', 'X48', 'X480', 'X481', 'X482', 'X483', 'X484', 'X485', 'X486', 'X487', 'X488', 'X489', 'X49', 'X490', 'X491', 'X492', 'X493', 'X494', 'X495', 'X496', 'X497', 'X498', 'X499', 'X5', 'X50', 'X500', 'X501', 'X502', 'X503', 'X504', 'X505', 'X506', 'X507', 'X508', 'X509', 'X51', 'X510', 'X511', 'X512', 'X513', 'X514', 'X515', 'X516', 'X517', 'X518', 'X519', 'X52', 'X520', 'X521', 'X522', 'X523', 'X524', 'X525', 'X526', 'X527', 'X528', 'X529', 'X53', 'X530', 'X531', 'X532', 'X533', 'X534', 'X535', 'X536', 'X537', 'X538', 'X539', 'X54', 'X540', 'X541', 'X542', 'X543', 'X544', 'X545', 'X546', 'X547', 'X548', 'X549', 'X55', 'X550', 'X551', 'X552', 'X553', 'X554', 'X555', 'X556', 'X557', 'X558', 'X559', 'X56', 'X560', 'X561', 'X562', 'X563', 'X564', 'X565', 'X566', 'X567', 'X568', 'X569', 'X57', 'X570', 'X571', 'X572', 'X573', 'X574', 'X575', 'X576', 'X577', 'X578', 'X579', 'X58', 'X580', 'X581', 'X582', 'X583', 'X584', 'X585', 'X586', 'X587', 'X588', 'X589', 'X59', 'X590', 'X591', 'X592', 'X593', 'X594', 'X595', 'X596', 'X597', 'X598', 'X599', 'X6', 'X60', 'X600', 'X601', 'X602', 'X603', 'X604', 'X605', 'X606', 'X607', 'X608', 'X609', 'X61', 'X610', 'X611', 'X612', 'X613', 'X614', 'X615', 'X616', 'X617', 'X618', 'X619', 'X62', 'X620', 'X621', 'X622', 'X623', 'X624', 'X625', 'X626', 'X627', 'X628', 'X629', 'X63', 'X630', 'X631', 'X632', 'X633', 'X634', 'X635', 'X636', 'X637', 'X638', 'X639', 'X64', 'X640', 'X641', 'X642', 'X643', 'X644', 'X645', 'X646', 'X647', 'X648', 'X649', 'X65', 'X650', 'X651', 'X652', 'X653', 'X654', 'X655', 'X656', 'X657', 'X658', 'X659', 'X66', 'X660', 'X661', 'X662', 'X663', 'X664', 'X665', 'X666', 'X667', 'X668', 'X669', 'X67', 'X670', 'X671', 'X672', 'X673', 'X674', 'X675', 'X676', 'X677', 'X678', 'X679', 'X68', 'X680', 'X681', 'X682', 'X683', 'X684', 'X685', 'X686', 'X687', 'X688', 'X689', 'X69', 'X690', 'X691', 'X692', 'X693', 'X694', 'X695', 'X696', 'X697', 'X698', 'X699', 'X7', 'X70', 'X700', 'X701', 'X702', 'X703', 'X704', 'X705', 'X706', 'X707', 'X708', 'X709', 'X71', 'X710', 'X711', 'X712', 'X713', 'X714', 'X715', 'X716', 'X717', 'X718', 'X719', 'X72', 'X720', 'X721', 'X722', 'X723', 'X724', 'X725', 'X726', 'X727', 'X728', 'X729', 'X73', 'X730', 'X731', 'X732', 'X733', 'X734', 'X735', 'X736', 'X737', 'X738', 'X739', 'X74', 'X740', 'X741', 'X742', 'X743', 'X744', 'X745', 'X746', 'X747', 'X748', 'X749', 'X75', 'X750', 'X751', 'X752', 'X753', 'X754', 'X755', 'X756', 'X757', 'X758', 'X759', 'X76', 'X760', 'X761', 'X762', 'X763', 'X764', 'X765', 'X766', 'X767', 'X768', 'X769', 'X77', 'X770', 'X771', 'X772', 'X773', 'X774', 'X775', 'X776', 'X777', 'X778', 'X779', 'X78', 'X780', 'X781', 'X782', 'X783', 'X784', 'X785', 'X786', 'X787', 'X788', 'X789', 'X79', 'X790', 'X791', 'X792', 'X793', 'X794', 'X795', 'X796', 'X797', 'X798', 'X799', 'X8', 'X80', 'X800', 'X801', 'X802', 'X803', 'X804', 'X805', 'X806', 'X807', 'X808', 'X809', 'X81', 'X810', 'X811', 'X812', 'X813', 'X814', 'X815', 'X816', 'X817', 'X818', 'X819', 'X82', 'X820', 'X821', 'X822', 'X823', 'X824', 'X825', 'X826', 'X827', 'X828', 'X829', 'X83', 'X830', 'X831', 'X832', 'X833', 'X834', 'X835', 'X836', 'X837', 'X838', 'X839', 'X84', 'X840', 'X841', 'X842', 'X843', 'X844', 'X845', 'X846', 'X847', 'X848', 'X849', 'X85', 'X850', 'X851', 'X852', 'X853', 'X854', 'X855', 'X856', 'X857', 'X858', 'X859', 'X86', 'X860', 'X861', 'X862', 'X863', 'X864', 'X865', 'X866', 'X867', 'X868', 'X869', 'X87', 'X870', 'X871', 'X872', 'X873', 'X874', 'X875', 'X876', 'X877', 'X878', 'X879', 'X88', 'X880', 'X881', 'X882', 'X883', 'X884', 'X885', 'X886', 'X887', 'X888', 'X889', 'X89', 'X890', 'X891', 'X892', 'X893', 'X894', 'X895', 'X896', 'X897', 'X898', 'X899', 'X9', 'X90', 'X900', 'X901', 'X902', 'X903', 'X904', 'X905', 'X906', 'X907', 'X908', 'X909', 'X91', 'X910', 'X911', 'X912', 'X913', 'X914', 'X915', 'X916', 'X917', 'X918', 'X919', 'X92', 'X920', 'X921', 'X922', 'X923', 'X924', 'X925', 'X926', 'X927', 'X928', 'X929', 'X93', 'X930', 'X931', 'X932', 'X933', 'X934', 'X935', 'X936', 'X937', 'X938', 'X939', 'X94', 'X940', 'X941', 'X942', 'X943', 'X944', 'X945', 'X946', 'X947', 'X948', 'X949', 'X95', 'X950', 'X951', 'X952', 'X953', 'X954', 'X955', 'X956', 'X957', 'X958', 'X959', 'X96', 'X960', 'X961', 'X962', 'X963', 'X964', 'X965', 'X966', 'X967', 'X968', 'X969', 'X97', 'X970', 'X971', 'X972', 'X973', 'X974', 'X975', 'X976', 'X977', 'X978', 'X979', 'X98', 'X980', 'X981', 'X982', 'X983', 'X984', 'X985', 'X986', 'X987', 'X988', 'X989', 'X99', 'X990', 'X991', 'X992', 'X993', 'X994', 'X995', 'X996', 'X997', 'X998', 'X999']\n"
     ]
    }
   ],
   "source": [
    "data_path = 'data/dgp/monotonic/returns'\n",
    "data = pd.read_csv(data_path+'/'+'data_0.csv', header=0)\n",
    "\n",
    "\n",
    "dataset_name = \"dgp/monotonic/returns\"\n",
    "filename ='data_0.csv'\n",
    "\n",
    "df, var_names, causes_attributes_dict, lagged_causes_attributes_dict = open_dataset_and_ground_truth(dataset_name, filename, rootdir=\"./\")\n",
    "print(var_names)"
   ]
  },
  {
   "cell_type": "code",
   "execution_count": 68,
   "id": "4f2e58a3-0cae-4a12-983b-2dd1cee5d8fc",
   "metadata": {},
   "outputs": [
    {
     "name": "stderr",
     "output_type": "stream",
     "text": [
      "100%|██████████| 10/10 [00:05<00:00,  1.95it/s]"
     ]
    },
    {
     "name": "stdout",
     "output_type": "stream",
     "text": [
      "{'FS_size': 10, 'precision': 0.0, 'recall': 0.0, 'TP': 0, 'FP': 10, 'FN': 2, 'TN': 988, 'f1-score': nan}\n",
      "['X250', 'X426', 'X472', 'X676', 'X716', 'X794', 'X817', 'X892', 'X962', 'X981']\n"
     ]
    },
    {
     "name": "stderr",
     "output_type": "stream",
     "text": [
      "\n"
     ]
    }
   ],
   "source": [
    "target='X3'\n",
    "config['num_features_to_select'] = 10\n",
    "selected=apply_mrmr(df,10,target)\n",
    "ground_truth_causes = causes_attributes_dict[target]\n",
    "total_columns=len(df.columns)\n",
    "stats = compute_stats_selected(total_columns, selected, ground_truth_causes, None, selection_mode=\"variable\")\n",
    "print(stats)\n",
    "print(selected)"
   ]
  },
  {
   "cell_type": "code",
   "execution_count": 46,
   "id": "40f26503-5116-454a-90c3-d86f810669f2",
   "metadata": {},
   "outputs": [
    {
     "name": "stderr",
     "output_type": "stream",
     "text": [
      "0it [00:00, ?it/s]\n"
     ]
    },
    {
     "name": "stdout",
     "output_type": "stream",
     "text": [
      "[0]\n",
      "[0]\n",
      "[0.0]\n"
     ]
    },
    {
     "name": "stderr",
     "output_type": "stream",
     "text": [
      "100%|██████████| 1/1 [00:00<00:00, 511.25it/s]\n"
     ]
    },
    {
     "name": "stdout",
     "output_type": "stream",
     "text": [
      "[0, 1]\n",
      "[0, 0.0]\n",
      "[0.0, 0.0]\n"
     ]
    },
    {
     "name": "stderr",
     "output_type": "stream",
     "text": [
      "100%|██████████| 2/2 [00:00<00:00,  7.99it/s]"
     ]
    },
    {
     "name": "stdout",
     "output_type": "stream",
     "text": [
      "[0, 1, 2]\n",
      "[0, 0.0, 0.5]\n",
      "[0.0, 0.0, 1.0]\n"
     ]
    },
    {
     "name": "stderr",
     "output_type": "stream",
     "text": [
      "\n",
      "100%|██████████| 3/3 [00:00<00:00,  4.92it/s]"
     ]
    },
    {
     "name": "stdout",
     "output_type": "stream",
     "text": [
      "[0, 1, 2, 3]\n",
      "[0, 0.0, 0.5, 0.3333333333333333]\n",
      "[0.0, 0.0, 1.0, 1.0]\n"
     ]
    },
    {
     "name": "stderr",
     "output_type": "stream",
     "text": [
      "\n",
      "100%|██████████| 4/4 [00:00<00:00,  4.11it/s]"
     ]
    },
    {
     "name": "stdout",
     "output_type": "stream",
     "text": [
      "[0, 1, 2, 3, 4]\n",
      "[0, 0.0, 0.5, 0.3333333333333333, 0.25]\n",
      "[0.0, 0.0, 1.0, 1.0, 1.0]\n"
     ]
    },
    {
     "name": "stderr",
     "output_type": "stream",
     "text": [
      "\n",
      "100%|██████████| 5/5 [00:01<00:00,  4.35it/s]"
     ]
    },
    {
     "name": "stdout",
     "output_type": "stream",
     "text": [
      "[0, 1, 2, 3, 4, 5]\n",
      "[0, 0.0, 0.5, 0.3333333333333333, 0.25, 0.25]\n",
      "[0.0, 0.0, 1.0, 1.0, 1.0, 1.0]\n"
     ]
    },
    {
     "name": "stderr",
     "output_type": "stream",
     "text": [
      "\n",
      "100%|██████████| 6/6 [00:01<00:00,  4.94it/s]"
     ]
    },
    {
     "name": "stdout",
     "output_type": "stream",
     "text": [
      "[0, 1, 2, 3, 4, 5, 6]\n",
      "[0, 0.0, 0.5, 0.3333333333333333, 0.25, 0.25, 0.25]\n",
      "[0.0, 0.0, 1.0, 1.0, 1.0, 1.0, 1.0]\n"
     ]
    },
    {
     "name": "stderr",
     "output_type": "stream",
     "text": [
      "\n",
      "100%|██████████| 7/7 [00:01<00:00,  4.84it/s]"
     ]
    },
    {
     "name": "stdout",
     "output_type": "stream",
     "text": [
      "[0, 1, 2, 3, 4, 5, 6, 7]\n",
      "[0, 0.0, 0.5, 0.3333333333333333, 0.25, 0.25, 0.25, 0.25]\n",
      "[0.0, 0.0, 1.0, 1.0, 1.0, 1.0, 1.0, 1.0]\n"
     ]
    },
    {
     "name": "stderr",
     "output_type": "stream",
     "text": [
      "\n",
      "100%|██████████| 8/8 [00:01<00:00,  4.51it/s]\n"
     ]
    },
    {
     "name": "stdout",
     "output_type": "stream",
     "text": [
      "[0, 1, 2, 3, 4, 5, 6, 7, 8]\n",
      "[0, 0.0, 0.5, 0.3333333333333333, 0.25, 0.25, 0.25, 0.25, 0.2]\n",
      "[0.0, 0.0, 1.0, 1.0, 1.0, 1.0, 1.0, 1.0, 1.0]\n"
     ]
    },
    {
     "name": "stderr",
     "output_type": "stream",
     "text": [
      "100%|██████████| 9/9 [00:02<00:00,  4.27it/s]"
     ]
    },
    {
     "name": "stdout",
     "output_type": "stream",
     "text": [
      "[0, 1, 2, 3, 4, 5, 6, 7, 8, 9]\n",
      "[0, 0.0, 0.5, 0.3333333333333333, 0.25, 0.25, 0.25, 0.25, 0.2, 0.2]\n",
      "[0.0, 0.0, 1.0, 1.0, 1.0, 1.0, 1.0, 1.0, 1.0, 1.0]\n"
     ]
    },
    {
     "name": "stderr",
     "output_type": "stream",
     "text": [
      "\n"
     ]
    }
   ],
   "source": [
    "Y,X,Z=[],[],[]\n",
    "target='X3'\n",
    "config['num_features_to_select'] = 10\n",
    "n_feature=0 \n",
    "for i in range(0,10):\n",
    "    target=random.choice(var_names)\n",
    "    selected=apply_mrmr(df,n_feature,target)\n",
    "    dict_metrics=compute_stats_selected(total_columns,selected,ground_truth_causes,None,selection_mode=\"variable\")\n",
    "    Y.append(dict_metrics['precision'])\n",
    "    X.append(n_feature)\n",
    "    Z.append(dict_metrics['recall'])\n",
    "    print(X)\n",
    "    print(Y)\n",
    "    print(Z)\n",
    "    n_feature+=1\n",
    "\n"
   ]
  },
  {
   "cell_type": "code",
   "execution_count": 72,
   "id": "df0f79a7-c0ef-492c-84d2-9ba234da42fc",
   "metadata": {},
   "outputs": [
    {
     "name": "stdout",
     "output_type": "stream",
     "text": [
      "Pour la target \"X3\"\n"
     ]
    },
    {
     "data": {
      "text/plain": [
       "Text(0.5, 1.0, 'Evolution of precision &  recall based on number of features for dataset dgp monotonic ')"
      ]
     },
     "execution_count": 72,
     "metadata": {},
     "output_type": "execute_result"
    },
    {
     "data": {
      "image/png": "[encoded data removed]",
      "text/plain": [
       "<Figure size 640x480 with 1 Axes>"
      ]
     },
     "metadata": {},
     "output_type": "display_data"
    }
   ],
   "source": [
    "print(f'Pour la target \"X3\"')\n",
    "plt.plot(X,Y,'b',label='precision')\n",
    "plt.plot(X,Z,'g',label='recall')\n",
    "plt.legend()\n",
    "plt.xlabel('Selected Features')\n",
    "plt.ylabel('Precision | Recall ')\n",
    "plt.title('Evolution of precision &  recall based on number of features for dataset dgp monotonic ')"
   ]
  },
  {
   "cell_type": "markdown",
   "id": "901a4c6d-4892-4c1c-9e60-39bc087db11e",
   "metadata": {},
   "source": [
    "# Résultats pour fmRI"
   ]
  },
  {
   "cell_type": "code",
   "execution_count": 69,
   "id": "0edebebc-fe64-4e28-93f9-5061c4e630dc",
   "metadata": {},
   "outputs": [
    {
     "name": "stdout",
     "output_type": "stream",
     "text": [
      "['0', '1', '2', '3', '4']\n"
     ]
    },
    {
     "name": "stderr",
     "output_type": "stream",
     "text": [
      "100%|██████████| 5/5 [00:00<00:00,  5.16it/s]"
     ]
    },
    {
     "name": "stdout",
     "output_type": "stream",
     "text": [
      "{'FS_size': 4, 'precision': 0.25, 'recall': 1.0, 'TP': 1, 'FP': 3, 'FN': 0, 'TN': 1, 'f1-score': 0.4}\n",
      "['0', '1', '3', '4']\n"
     ]
    },
    {
     "name": "stderr",
     "output_type": "stream",
     "text": [
      "\n"
     ]
    }
   ],
   "source": [
    "data_path = 'data/fMRI_processed_by_Nauta/returns/original'\n",
    "data = pd.read_csv(data_path+'/'+'timeseries1.csv', header=0)\n",
    "\n",
    "\n",
    "dataset_name = \"fMRI_processed_by_Nauta/returns/original\"\n",
    "filename ='timeseries1.csv'\n",
    "\n",
    "df, var_names, causes_attributes_dict, lagged_causes_attributes_dict = open_dataset_and_ground_truth(dataset_name, filename, rootdir=\"./\")\n",
    "print(var_names)\n",
    "\n",
    "target='4'\n",
    "config['num_features_to_select'] = 10\n",
    "selected=apply_mrmr(df,5,target)\n",
    "ground_truth_causes = causes_attributes_dict[target]\n",
    "total_columns=len(df.columns)\n",
    "stats = compute_stats_selected(total_columns, selected, ground_truth_causes, None, selection_mode=\"variable\")\n",
    "print(stats)\n",
    "print(selected)"
   ]
  },
  {
   "cell_type": "code",
   "execution_count": 41,
   "id": "d771d9dc-1f5b-45f0-9ff0-1adac01c9b97",
   "metadata": {},
   "outputs": [
    {
     "name": "stderr",
     "output_type": "stream",
     "text": [
      "0it [00:00, ?it/s]\n"
     ]
    },
    {
     "name": "stdout",
     "output_type": "stream",
     "text": [
      "[0]\n",
      "[0]\n",
      "[0.0]\n"
     ]
    },
    {
     "name": "stderr",
     "output_type": "stream",
     "text": [
      "100%|██████████| 1/1 [00:00<00:00, 455.75it/s]\n"
     ]
    },
    {
     "name": "stdout",
     "output_type": "stream",
     "text": [
      "[0, 1]\n",
      "[0, 1.0]\n",
      "[0.0, 1.0]\n"
     ]
    },
    {
     "name": "stderr",
     "output_type": "stream",
     "text": [
      "100%|██████████| 2/2 [00:00<00:00,  8.29it/s]"
     ]
    },
    {
     "name": "stdout",
     "output_type": "stream",
     "text": [
      "[0, 1, 2]\n",
      "[0, 1.0, 0.5]\n",
      "[0.0, 1.0, 1.0]\n"
     ]
    },
    {
     "name": "stderr",
     "output_type": "stream",
     "text": [
      "\n",
      "100%|██████████| 3/3 [00:00<00:00,  4.30it/s]"
     ]
    },
    {
     "name": "stdout",
     "output_type": "stream",
     "text": [
      "[0, 1, 2, 3]\n",
      "[0, 1.0, 0.5, 0.3333333333333333]\n",
      "[0.0, 1.0, 1.0, 1.0]\n"
     ]
    },
    {
     "name": "stderr",
     "output_type": "stream",
     "text": [
      "\n",
      "100%|██████████| 4/4 [00:00<00:00,  4.87it/s]"
     ]
    },
    {
     "name": "stdout",
     "output_type": "stream",
     "text": [
      "[0, 1, 2, 3, 4]\n",
      "[0, 1.0, 0.5, 0.3333333333333333, 0.25]\n",
      "[0.0, 1.0, 1.0, 1.0, 1.0]\n"
     ]
    },
    {
     "name": "stderr",
     "output_type": "stream",
     "text": [
      "\n",
      "100%|██████████| 5/5 [00:01<00:00,  4.53it/s]\n"
     ]
    },
    {
     "name": "stdout",
     "output_type": "stream",
     "text": [
      "[0, 1, 2, 3, 4, 5]\n",
      "[0, 1.0, 0.5, 0.3333333333333333, 0.25, 0.25]\n",
      "[0.0, 1.0, 1.0, 1.0, 1.0, 1.0]\n"
     ]
    },
    {
     "name": "stderr",
     "output_type": "stream",
     "text": [
      "100%|██████████| 6/6 [00:01<00:00,  4.30it/s]"
     ]
    },
    {
     "name": "stdout",
     "output_type": "stream",
     "text": [
      "[0, 1, 2, 3, 4, 5, 6]\n",
      "[0, 1.0, 0.5, 0.3333333333333333, 0.25, 0.25, 0.25]\n",
      "[0.0, 1.0, 1.0, 1.0, 1.0, 1.0, 1.0]\n"
     ]
    },
    {
     "name": "stderr",
     "output_type": "stream",
     "text": [
      "\n",
      "100%|██████████| 7/7 [00:01<00:00,  4.41it/s]"
     ]
    },
    {
     "name": "stdout",
     "output_type": "stream",
     "text": [
      "[0, 1, 2, 3, 4, 5, 6, 7]\n",
      "[0, 1.0, 0.5, 0.3333333333333333, 0.25, 0.25, 0.25, 0.25]\n",
      "[0.0, 1.0, 1.0, 1.0, 1.0, 1.0, 1.0, 1.0]\n"
     ]
    },
    {
     "name": "stderr",
     "output_type": "stream",
     "text": [
      "\n",
      "100%|██████████| 8/8 [00:01<00:00,  4.12it/s]"
     ]
    },
    {
     "name": "stdout",
     "output_type": "stream",
     "text": [
      "[0, 1, 2, 3, 4, 5, 6, 7, 8]\n",
      "[0, 1.0, 0.5, 0.3333333333333333, 0.25, 0.25, 0.25, 0.25, 0.25]\n",
      "[0.0, 1.0, 1.0, 1.0, 1.0, 1.0, 1.0, 1.0, 1.0]\n"
     ]
    },
    {
     "name": "stderr",
     "output_type": "stream",
     "text": [
      "\n",
      "100%|██████████| 9/9 [00:02<00:00,  4.05it/s]"
     ]
    },
    {
     "name": "stdout",
     "output_type": "stream",
     "text": [
      "[0, 1, 2, 3, 4, 5, 6, 7, 8, 9]\n",
      "[0, 1.0, 0.5, 0.3333333333333333, 0.25, 0.25, 0.25, 0.25, 0.25, 0.2]\n",
      "[0.0, 1.0, 1.0, 1.0, 1.0, 1.0, 1.0, 1.0, 1.0, 1.0]\n"
     ]
    },
    {
     "name": "stderr",
     "output_type": "stream",
     "text": [
      "\n"
     ]
    }
   ],
   "source": [
    "Y,X,Z=[],[],[]\n",
    "target='4'\n",
    "config['num_features_to_select'] = 10\n",
    "n_feature=0 \n",
    "for i in range(0,10):\n",
    "    #target=random.choice(var_names)\n",
    "    selected=apply_mrmr(df,n_feature,target)\n",
    "    dict_metrics=compute_stats_selected(total_columns,selected,ground_truth_causes,None,selection_mode=\"variable\")\n",
    "    Y.append(dict_metrics['precision'])\n",
    "    X.append(n_feature)\n",
    "    Z.append(dict_metrics['recall'])\n",
    "    print(X)\n",
    "    print(Y)\n",
    "    print(Z)\n",
    "    n_feature+=1"
   ]
  },
  {
   "cell_type": "code",
   "execution_count": 45,
   "id": "a04d9278-2756-404b-9ef2-032c40ad4998",
   "metadata": {},
   "outputs": [
    {
     "name": "stdout",
     "output_type": "stream",
     "text": [
      "Pour la target \"4\"\n"
     ]
    },
    {
     "data": {
      "text/plain": [
       "Text(0.5, 1.0, 'Evolution of precision &  recall based on number of features for dataset fmRI ')"
      ]
     },
     "execution_count": 45,
     "metadata": {},
     "output_type": "execute_result"
    },
    {
     "data": {
      "image/png": "[encoded data removed]",
      "text/plain": [
       "<Figure size 640x480 with 1 Axes>"
      ]
     },
     "metadata": {},
     "output_type": "display_data"
    }
   ],
   "source": [
    "print(f'Pour la target \"4\"')\n",
    "plt.plot(X,Y,'b',label='precision')\n",
    "plt.plot(X,Z,'g',label='recall')\n",
    "plt.legend()\n",
    "plt.xlabel('Selected Features')\n",
    "plt.ylabel('Precision | Recall ')\n",
    "plt.title('Evolution of precision &  recall based on number of features for dataset fmRI ')"
   ]
  },
  {
   "cell_type": "code",
   "execution_count": 89,
   "id": "279e1f99-08f8-49f9-a034-a2837ca99b7b",
   "metadata": {},
   "outputs": [
    {
     "name": "stdout",
     "output_type": "stream",
     "text": [
      "env: PATH=/usr/bin/graphviz/bin:$PATH\n"
     ]
    },
    {
     "ename": "FileNotFoundError",
     "evalue": "[Errno 2] No such file or directory: 'returns'",
     "output_type": "error",
     "traceback": [
      "\u001b[0;31m---------------------------------------------------------------------------\u001b[0m",
      "\u001b[0;31mFileNotFoundError\u001b[0m                         Traceback (most recent call last)",
      "Cell \u001b[0;32mIn[89], line 51\u001b[0m\n\u001b[1;32m     48\u001b[0m     dot\u001b[38;5;241m.\u001b[39mview()\n\u001b[1;32m     50\u001b[0m \u001b[38;5;66;03m# Exemple d'utilisation\u001b[39;00m\n\u001b[0;32m---> 51\u001b[0m \u001b[43mplot_causal_graph_from_csv\u001b[49m\u001b[43m(\u001b[49m\u001b[43m)\u001b[49m\n",
      "Cell \u001b[0;32mIn[89], line 23\u001b[0m, in \u001b[0;36mplot_causal_graph_from_csv\u001b[0;34m(data_folder, ground_truth_folder)\u001b[0m\n\u001b[1;32m     20\u001b[0m dot \u001b[38;5;241m=\u001b[39m Digraph(comment\u001b[38;5;241m=\u001b[39m\u001b[38;5;124m'\u001b[39m\u001b[38;5;124mCausal Graph\u001b[39m\u001b[38;5;124m'\u001b[39m)\n\u001b[1;32m     22\u001b[0m \u001b[38;5;66;03m# Charger les données à partir des fichiers CSV dans le dossier \"returns\"\u001b[39;00m\n\u001b[0;32m---> 23\u001b[0m returns_files \u001b[38;5;241m=\u001b[39m [f \u001b[38;5;28;01mfor\u001b[39;00m f \u001b[38;5;129;01min\u001b[39;00m \u001b[43mos\u001b[49m\u001b[38;5;241;43m.\u001b[39;49m\u001b[43mlistdir\u001b[49m\u001b[43m(\u001b[49m\u001b[43mdata_folder\u001b[49m\u001b[43m)\u001b[49m \u001b[38;5;28;01mif\u001b[39;00m f\u001b[38;5;241m.\u001b[39mendswith(\u001b[38;5;124m'\u001b[39m\u001b[38;5;124m.csv\u001b[39m\u001b[38;5;124m'\u001b[39m)]\n\u001b[1;32m     24\u001b[0m \u001b[38;5;28;01mfor\u001b[39;00m file \u001b[38;5;129;01min\u001b[39;00m returns_files:\n\u001b[1;32m     25\u001b[0m     file_path \u001b[38;5;241m=\u001b[39m os\u001b[38;5;241m.\u001b[39mpath\u001b[38;5;241m.\u001b[39mjoin(data_folder, file)\n",
      "\u001b[0;31mFileNotFoundError\u001b[0m: [Errno 2] No such file or directory: 'returns'"
     ]
    }
   ],
   "source": [
    "import os\n",
    "import pandas as pd\n",
    "from graphviz import Digraph\n",
    "\n",
    "def plot_causal_graph_from_csv(data_folder=\"returns\", ground_truth_folder=\"ground_truth\"):\n",
    "    \"\"\"\n",
    "    Trace le graphe causal à partir de fichiers CSV dans les dossiers spécifiés.\n",
    "\n",
    "    Parameters:\n",
    "    - data_folder: Nom du dossier contenant les données (par défaut: \"returns\").\n",
    "    - ground_truth_folder: Nom du dossier contenant les variables d'intérêt (par défaut: \"ground_truth\").\n",
    "\n",
    "    Returns:\n",
    "    - Aucun (affiche le graphe causal).\n",
    "    \"\"\"\n",
    "    # Ajouter le répertoire Graphviz au PATH\n",
    "    %env PATH=/usr/bin/graphviz/bin:$PATH\n",
    "\n",
    "    # Créer un graphe dirigé\n",
    "    dot = Digraph(comment='Causal Graph')\n",
    "\n",
    "    # Charger les données à partir des fichiers CSV dans le dossier \"returns\"\n",
    "    returns_files = [f for f in os.listdir(data_folder) if f.endswith('.csv')]\n",
    "    for file in returns_files:\n",
    "        file_path = os.path.join(data_folder, file)\n",
    "        data = pd.read_csv(file_path)\n",
    "\n",
    "        # Ajouter les nœuds au graphe\n",
    "        for column in data.columns:\n",
    "            dot.node(column)\n",
    "\n",
    "        # Ajouter les arêtes (liens causaux) en supposant une relation linéaire entre les colonnes\n",
    "        for i in range(len(data.columns) - 1):\n",
    "            dot.edge(data.columns[i], data.columns[i + 1])\n",
    "\n",
    "    # Charger les variables d'intérêt à partir des fichiers CSV dans le dossier \"ground_truth\"\n",
    "    ground_truth_files = [f for f in os.listdir(ground_truth_folder) if f.endswith('.csv')]\n",
    "    for file in ground_truth_files:\n",
    "        file_path = os.path.join(ground_truth_folder, file)\n",
    "        ground_truth = pd.read_csv(file_path)\n",
    "\n",
    "        # Ajouter les nœuds au graphe\n",
    "        for column in ground_truth.columns:\n",
    "            dot.node(column, color='red')  # Mettre en surbrillance les variables d'intérêt en rouge\n",
    "\n",
    "    # Afficher le graphe\n",
    "    dot.render('causal_graph', format='png', cleanup=True)\n",
    "    dot.view()\n",
    "\n",
    "# Exemple d'utilisation\n",
    "plot_causal_graph_from_csv()\n"
   ]
  },
  {
   "cell_type": "code",
   "execution_count": 88,
   "id": "3bade123-24a8-4b4f-a204-db1a3f5b8a67",
   "metadata": {},
   "outputs": [
    {
     "ename": "SyntaxError",
     "evalue": "invalid syntax (396300048.py, line 1)",
     "output_type": "error",
     "traceback": [
      "\u001b[0;36m  Cell \u001b[0;32mIn[88], line 1\u001b[0;36m\u001b[0m\n\u001b[0;31m    export PATH=\"/usr/bin/graphviz/bin:$PATH\"\u001b[0m\n\u001b[0m           ^\u001b[0m\n\u001b[0;31mSyntaxError\u001b[0m\u001b[0;31m:\u001b[0m invalid syntax\n"
     ]
    }
   ],
   "source": [
    "export PATH=\"/usr/bin/graphviz/bin:$PATH\"\n"
   ]
  },
  {
   "cell_type": "code",
   "execution_count": null,
   "id": "67e14100-9b53-45da-88d6-7776530f2530",
   "metadata": {},
   "outputs": [],
   "source": []
  }
 ],
 "metadata": {
  "kernelspec": {
   "display_name": "Python 3 (ipykernel)",
   "language": "python",
   "name": "python3"
  },
  "language_info": {
   "codemirror_mode": {
    "name": "ipython",
    "version": 3
   },
   "file_extension": ".py",
   "mimetype": "text/x-python",
   "name": "python",
   "nbconvert_exporter": "python",
   "pygments_lexer": "ipython3",
   "version": "3.10.12"
  }
 },
 "nbformat": 4,
 "nbformat_minor": 5
}
